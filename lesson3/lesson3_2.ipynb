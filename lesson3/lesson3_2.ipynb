{
 "cells": [
  {
   "cell_type": "markdown",
   "metadata": {},
   "source": [
    "# 下載internet的資源\n",
    "- 使用第三方套件(requests)  "
   ]
  },
  {
   "cell_type": "markdown",
   "metadata": {},
   "source": [
    "### pip install requests\n",
    "### 更新:pip install --upgrade pip   <pip install --upgrade pip>\n",
    "### git push --force  (強迫同步)"
   ]
  },
  {
   "cell_type": "code",
   "execution_count": null,
   "metadata": {},
   "outputs": [],
   "source": [
    "import requests\n",
    "from requests import Response\n",
    "import csv \n",
    "from io import StringIO\n",
    "\n",
    "url = 'https://data.moenv.gov.tw/api/v2/aqx_p_432?api_key=540e2ca4-41e1-4186-8497-fdd67024ac44&limit=1000&sort=ImportDate desc&format=CSV'\n",
    "# response:Response=requests.get(url, verify=False)\n",
    "response:Response=requests.get(url)\n",
    "file= StringIO(response.text)     #class 初始化  建立實體\n",
    "csv_reader = csv.DictReader(file) #class 初始化  生產實體\n",
    "aqi:list = list(csv_reader)       #class 初始化  生產實體\n"
   ]
  },
  {
   "cell_type": "code",
   "execution_count": 10,
   "metadata": {},
   "outputs": [
    {
     "name": "stdout",
     "output_type": "stream",
     "text": [
      "{'sitename': '新店', 'county': '新北市', 'aqi': '50', 'pollutant': '', 'status': '良好', 'so2': '0.6', 'co': '0.22', 'o3': '51', 'o3_8hr': '54', 'pm10': '22', 'pm2.5': '14', 'no2': '3', 'nox': '4.8', 'no': '1', 'wind_speed': '1.8', 'wind_direc': '131', 'publishtime': '2025/05/08 16:00:00', 'co_8hr': '0.2', 'pm2.5_avg': '12.3', 'pm10_avg': '25', 'so2_avg': '0', 'longitude': '121.537778', 'latitude': '24.977222', 'siteid': '4'}\n"
     ]
    }
   ],
   "source": [
    "for item in aqi:\n",
    "    if item['sitename']=='新店':\n",
    "        print(item)"
   ]
  },
  {
   "cell_type": "code",
   "execution_count": 11,
   "metadata": {},
   "outputs": [
    {
     "data": {
      "text/plain": [
       "list"
      ]
     },
     "execution_count": 11,
     "metadata": {},
     "output_type": "execute_result"
    }
   ],
   "source": [
    "type([1,2,3,4])"
   ]
  }
 ],
 "metadata": {
  "kernelspec": {
   "display_name": "flask",
   "language": "python",
   "name": "python3"
  },
  "language_info": {
   "codemirror_mode": {
    "name": "ipython",
    "version": 3
   },
   "file_extension": ".py",
   "mimetype": "text/x-python",
   "name": "python",
   "nbconvert_exporter": "python",
   "pygments_lexer": "ipython3",
   "version": "3.11.11"
  }
 },
 "nbformat": 4,
 "nbformat_minor": 2
}
