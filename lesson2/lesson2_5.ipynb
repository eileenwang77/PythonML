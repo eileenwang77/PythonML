{
 "cells": [
  {
   "cell_type": "code",
   "execution_count": 11,
   "metadata": {},
   "outputs": [],
   "source": [
    "#list dict  常組合一起使用使用\n",
    "students:list=[]\n",
    "students.append({\"name\":\"robert\",\"chinese\":87,\"english\":92,\"math\":99})\n",
    "students.append({\"name\":\"alice\",\"chinese\":97,\"english\":76,\"math\":79})"
   ]
  },
  {
   "cell_type": "code",
   "execution_count": 12,
   "metadata": {},
   "outputs": [
    {
     "data": {
      "text/plain": [
       "[{'name': 'robert', 'chinese': 87, 'english': 92, 'math': 99},\n",
       " {'name': 'alice', 'chinese': 97, 'english': 76, 'math': 79}]"
      ]
     },
     "execution_count": 12,
     "metadata": {},
     "output_type": "execute_result"
    }
   ],
   "source": [
    "# print(s\n",
    "# tudents)\n",
    "students"
   ]
  },
  {
   "cell_type": "code",
   "execution_count": 14,
   "metadata": {},
   "outputs": [
    {
     "name": "stdout",
     "output_type": "stream",
     "text": [
      "name:robert\n",
      "chinese:87\n",
      "english:92\n",
      "math:99\n",
      "====================\n",
      "name:alice\n",
      "chinese:97\n",
      "english:76\n",
      "math:79\n",
      "====================\n"
     ]
    }
   ],
   "source": [
    "for student in students:\n",
    "    # print(type(student))\n",
    "    for key,value in student.items():\n",
    "        print(key,value,sep=':')\n",
    "    print(\"=\"*20)"
   ]
  }
 ],
 "metadata": {
  "kernelspec": {
   "display_name": ".venv",
   "language": "python",
   "name": "python3"
  },
  "language_info": {
   "codemirror_mode": {
    "name": "ipython",
    "version": 3
   },
   "file_extension": ".py",
   "mimetype": "text/x-python",
   "name": "python",
   "nbconvert_exporter": "python",
   "pygments_lexer": "ipython3",
   "version": "3.13.2"
  }
 },
 "nbformat": 4,
 "nbformat_minor": 2
}
