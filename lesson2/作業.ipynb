{
 "cells": [
  {
   "cell_type": "markdown",
   "metadata": {},
   "source": [
    "1. **請讀取names.txt**\n",
    "2. **將文字儲存於list內**\n",
    "3. **每次執行可以亂數取出3個姓名**"
   ]
  },
  {
   "cell_type": "code",
   "execution_count": 6,
   "metadata": {},
   "outputs": [
    {
     "name": "stdout",
     "output_type": "stream",
     "text": [
      "['黃偉剛', '林昱芳', '黃翔杰']\n"
     ]
    }
   ],
   "source": [
    "import random\n",
    "\n",
    "# 讀取檔案並儲存為列表\n",
    "with open('names.txt', 'r', encoding='utf-8') as f:\n",
    "    names_list = [line.strip() for line in f]\n",
    "\n",
    "# 隨機選取3個姓名\n",
    "random_names = random.sample(names_list, 3)\n",
    "print(random_names)\n"
   ]
  },
  {
   "cell_type": "markdown",
   "metadata": {},
   "source": [
    "# 程式說明：\n",
    "## 程式內容：\n",
    "\n",
    "``` python\n",
    "import random\n",
    "\n",
    "# 讀取檔案並儲存為列表\n",
    "with open('names.txt', 'r', encoding='utf-8') as f:\n",
    "    names_list = [line.strip() for line in f]\n",
    "\n",
    "# 隨機選取3個姓名\n",
    "random_names = random.sample(names_list, 3)\n",
    "print(random_names)\n",
    "\n",
    "```\n",
    "\n",
    "---\n",
    "\n",
    "### import random\n",
    "#### 載入ramdom 模組\n",
    "\n",
    "---\n",
    "\n",
    "### with open('names.txt', 'r', encoding='utf-8') as f:\n",
    "###    names_list = [line.strip() for line in f]\n",
    "\n",
    "#### 使用 with open() as 語法自動處理檔案關閉，透過列表生成式 [line.strip() for line in f] 逐行讀取並去除換行符號(\\n)，將結果存入 names_list。\n",
    "\n",
    "---\n",
    "\n",
    "### random_names = random.sample(names_list, 3)\n",
    "#### 隨機選取機制\n",
    "#### 使用 random.sample() 方法從列表中無重複抽取指定數量元素1，參數設定 k=3 確保每次取得3個隨機姓名。\n",
    "\n",
    "### print(random_names)\n",
    "#### 使用print 印出三個姓名\n",
    "\n"
   ]
  },
  {
   "cell_type": "markdown",
   "metadata": {},
   "source": [
    "```\n",
    "程式說明：\n",
    "\n",
    "檔案讀取與列表儲存\n",
    "使用 with open() as 語法自動處理檔案關閉，透過列表生成式 [line.strip() for line in f] 逐行讀取並去除換行符號(\\n)，將結果存入 names_list。\n",
    "\n",
    "隨機選取機制\n",
    "使用 random.sample() 方法從列表中無重複抽取指定數量元素1，參數設定 k=3 確保每次取得3個隨機姓名。\n",
    "```\n"
   ]
  }
 ],
 "metadata": {
  "kernelspec": {
   "display_name": ".venv",
   "language": "python",
   "name": "python3"
  },
  "language_info": {
   "codemirror_mode": {
    "name": "ipython",
    "version": 3
   },
   "file_extension": ".py",
   "mimetype": "text/x-python",
   "name": "python",
   "nbconvert_exporter": "python",
   "pygments_lexer": "ipython3",
   "version": "3.13.2"
  }
 },
 "nbformat": 4,
 "nbformat_minor": 2
}
