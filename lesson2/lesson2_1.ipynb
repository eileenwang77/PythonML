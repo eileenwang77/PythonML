{
 "cells": [
  {
   "cell_type": "markdown",
   "metadata": {},
   "source": [
    "### 呼叫function"
   ]
  },
  {
   "cell_type": "code",
   "execution_count": 19,
   "metadata": {},
   "outputs": [],
   "source": [
    "# def menu(wine,entree,dessert):\n",
    "#     print(\"wine\",wine,\"entree\",entree,\"dessert\",dessert)\n",
    "def menu(wine:str,entree:str,dessert:str) -> dict:\n",
    "    return {\"wine\":wine,\n",
    "             \"entree\":entree,\n",
    "             \"dessert\":dessert\n",
    "             }\n"
   ]
  },
  {
   "cell_type": "code",
   "execution_count": null,
   "metadata": {},
   "outputs": [
    {
     "data": {
      "text/plain": [
       "{'wine': '白酒', 'entree': '牛排', 'dessert': '蛋糕1'}"
      ]
     },
     "execution_count": 20,
     "metadata": {},
     "output_type": "execute_result"
    }
   ],
   "source": [
    "#引數值呼叫(依順序)\n",
    "pk:dict = menu('白酒','牛排','蛋糕1')\n",
    "pk\n",
    "# menu('白酒','牛排')  --會出錯  因少傳一個值"
   ]
  },
  {
   "cell_type": "code",
   "execution_count": 21,
   "metadata": {},
   "outputs": [
    {
     "data": {
      "text/plain": [
       "{'wine': '白酒', 'entree': '牛排', 'dessert': '蛋糕'}"
      ]
     },
     "execution_count": 21,
     "metadata": {},
     "output_type": "execute_result"
    }
   ],
   "source": [
    "pk1:dict = menu('白酒','牛排','蛋糕')\n",
    "pk1\n",
    "# print(pk1)"
   ]
  },
  {
   "cell_type": "code",
   "execution_count": null,
   "metadata": {},
   "outputs": [
    {
     "data": {
      "text/plain": [
       "{'wine': '白酒', 'entree': '牛排', 'dessert': '蛋糕'}"
      ]
     },
     "execution_count": 25,
     "metadata": {},
     "output_type": "execute_result"
    }
   ],
   "source": [
    "#引數名稱的呼叫(可以不依順序)\n",
    "pk:dict = menu(wine='白酒',dessert='蛋糕',entree='牛排')\n",
    "pk"
   ]
  },
  {
   "cell_type": "code",
   "execution_count": 27,
   "metadata": {},
   "outputs": [
    {
     "data": {
      "text/plain": [
       "{'wine': '白酒', 'entree': '牛排', 'dessert': '蛋糕'}"
      ]
     },
     "execution_count": 27,
     "metadata": {},
     "output_type": "execute_result"
    }
   ],
   "source": [
    "#混和呼叫\n",
    "#前面要引數值呼叫\n",
    "#後面要引數名稱呼叫\n",
    "#引數名稱呼叫後, 全部都要 引數名稱呼叫\n",
    "pk:dict = menu('白酒',dessert='蛋糕',entree='牛排')\n",
    "pk\n"
   ]
  },
  {
   "cell_type": "code",
   "execution_count": 33,
   "metadata": {},
   "outputs": [],
   "source": [
    "##參數有default value, 一定放在最後面\n",
    "# def menu(wine:str,entree:str,dessert:str='蛋糕') -> dict:\n",
    "def menu(wine:str,entree:str='炸豬排',dessert:str='蛋糕') -> dict:\n",
    "    return {\"wine\":wine,\n",
    "             \"entree\":entree,\n",
    "             \"dessert\":dessert\n",
    "             }"
   ]
  },
  {
   "cell_type": "code",
   "execution_count": 34,
   "metadata": {},
   "outputs": [
    {
     "data": {
      "text/plain": [
       "{'wine': '白酒', 'entree': '炸豬排', 'dessert': '蛋糕'}"
      ]
     },
     "execution_count": 34,
     "metadata": {},
     "output_type": "execute_result"
    }
   ],
   "source": [
    "#呼叫時有default value 可以省略\n",
    "#引數值呼叫\n",
    "pk:dict = menu('白酒')\n",
    "pk"
   ]
  },
  {
   "cell_type": "code",
   "execution_count": 35,
   "metadata": {},
   "outputs": [
    {
     "data": {
      "text/plain": [
       "{'wine': '白酒', 'entree': '炸豬排', 'dessert': '蛋糕'}"
      ]
     },
     "execution_count": 35,
     "metadata": {},
     "output_type": "execute_result"
    }
   ],
   "source": [
    "#引數名稱呼叫\n",
    "pk:dict = menu(wine='白酒')\n",
    "pk"
   ]
  },
  {
   "cell_type": "code",
   "execution_count": 37,
   "metadata": {},
   "outputs": [
    {
     "data": {
      "text/plain": [
       "{'wine': '白酒', 'entree': '牛排', 'dessert': '蛋糕'}"
      ]
     },
     "execution_count": 37,
     "metadata": {},
     "output_type": "execute_result"
    }
   ],
   "source": [
    "#引數名稱呼叫\n",
    "pk:dict = menu(wine='白酒',entree='牛排')\n",
    "pk"
   ]
  },
  {
   "cell_type": "code",
   "execution_count": 41,
   "metadata": {},
   "outputs": [
    {
     "name": "stdout",
     "output_type": "stream",
     "text": [
      "1-2-3-4.\n",
      "1*2*3*4...\n"
     ]
    }
   ],
   "source": [
    "print(1,2,3,4,sep='-',end='.\\n')\n",
    "print(1,2,3,4,end='...\\n',sep='*')"
   ]
  }
 ],
 "metadata": {
  "kernelspec": {
   "display_name": ".venv",
   "language": "python",
   "name": "python3"
  },
  "language_info": {
   "codemirror_mode": {
    "name": "ipython",
    "version": 3
   },
   "file_extension": ".py",
   "mimetype": "text/x-python",
   "name": "python",
   "nbconvert_exporter": "python",
   "pygments_lexer": "ipython3",
   "version": "3.13.2"
  }
 },
 "nbformat": 4,
 "nbformat_minor": 2
}
